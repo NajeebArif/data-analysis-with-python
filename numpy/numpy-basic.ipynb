{
 "cells": [
  {
   "cell_type": "code",
   "execution_count": 2,
   "metadata": {},
   "outputs": [],
   "source": [
    "import numpy as np"
   ]
  },
  {
   "cell_type": "code",
   "execution_count": 6,
   "metadata": {},
   "outputs": [
    {
     "data": {
      "text/plain": [
       "array([     0,      1,      2, ..., 999997, 999998, 999999])"
      ]
     },
     "execution_count": 6,
     "metadata": {},
     "output_type": "execute_result"
    }
   ],
   "source": [
    "my_arr = np.arange(1_000_000)\n",
    "my_arr"
   ]
  },
  {
   "cell_type": "code",
   "execution_count": 7,
   "metadata": {},
   "outputs": [
    {
     "data": {
      "text/plain": [
       "[np.int64(0),\n",
       " np.int64(1),\n",
       " np.int64(2),\n",
       " np.int64(3),\n",
       " np.int64(4),\n",
       " np.int64(5),\n",
       " np.int64(6),\n",
       " np.int64(7),\n",
       " np.int64(8),\n",
       " np.int64(9),\n",
       " np.int64(10),\n",
       " np.int64(11),\n",
       " np.int64(12),\n",
       " np.int64(13),\n",
       " np.int64(14),\n",
       " np.int64(15),\n",
       " np.int64(16),\n",
       " np.int64(17),\n",
       " np.int64(18),\n",
       " np.int64(19),\n",
       " np.int64(20),\n",
       " np.int64(21),\n",
       " np.int64(22),\n",
       " np.int64(23),\n",
       " np.int64(24),\n",
       " np.int64(25),\n",
       " np.int64(26),\n",
       " np.int64(27),\n",
       " np.int64(28),\n",
       " np.int64(29),\n",
       " np.int64(30),\n",
       " np.int64(31),\n",
       " np.int64(32),\n",
       " np.int64(33),\n",
       " np.int64(34),\n",
       " np.int64(35),\n",
       " np.int64(36),\n",
       " np.int64(37),\n",
       " np.int64(38),\n",
       " np.int64(39),\n",
       " np.int64(40),\n",
       " np.int64(41),\n",
       " np.int64(42),\n",
       " np.int64(43),\n",
       " np.int64(44),\n",
       " np.int64(45),\n",
       " np.int64(46),\n",
       " np.int64(47),\n",
       " np.int64(48),\n",
       " np.int64(49),\n",
       " np.int64(50),\n",
       " np.int64(51),\n",
       " np.int64(52),\n",
       " np.int64(53),\n",
       " np.int64(54),\n",
       " np.int64(55),\n",
       " np.int64(56),\n",
       " np.int64(57),\n",
       " np.int64(58),\n",
       " np.int64(59),\n",
       " np.int64(60),\n",
       " np.int64(61),\n",
       " np.int64(62),\n",
       " np.int64(63),\n",
       " np.int64(64),\n",
       " np.int64(65),\n",
       " np.int64(66),\n",
       " np.int64(67),\n",
       " np.int64(68),\n",
       " np.int64(69),\n",
       " np.int64(70),\n",
       " np.int64(71),\n",
       " np.int64(72),\n",
       " np.int64(73),\n",
       " np.int64(74),\n",
       " np.int64(75),\n",
       " np.int64(76),\n",
       " np.int64(77),\n",
       " np.int64(78),\n",
       " np.int64(79),\n",
       " np.int64(80),\n",
       " np.int64(81),\n",
       " np.int64(82),\n",
       " np.int64(83),\n",
       " np.int64(84),\n",
       " np.int64(85),\n",
       " np.int64(86),\n",
       " np.int64(87),\n",
       " np.int64(88),\n",
       " np.int64(89),\n",
       " np.int64(90),\n",
       " np.int64(91),\n",
       " np.int64(92),\n",
       " np.int64(93),\n",
       " np.int64(94),\n",
       " np.int64(95),\n",
       " np.int64(96),\n",
       " np.int64(97),\n",
       " np.int64(98),\n",
       " np.int64(99),\n",
       " np.int64(100),\n",
       " np.int64(101),\n",
       " np.int64(102),\n",
       " np.int64(103),\n",
       " np.int64(104),\n",
       " np.int64(105),\n",
       " np.int64(106),\n",
       " np.int64(107),\n",
       " np.int64(108),\n",
       " np.int64(109),\n",
       " np.int64(110),\n",
       " np.int64(111),\n",
       " np.int64(112),\n",
       " np.int64(113),\n",
       " np.int64(114),\n",
       " np.int64(115),\n",
       " np.int64(116),\n",
       " np.int64(117),\n",
       " np.int64(118),\n",
       " np.int64(119),\n",
       " np.int64(120),\n",
       " np.int64(121),\n",
       " np.int64(122),\n",
       " np.int64(123),\n",
       " np.int64(124),\n",
       " np.int64(125),\n",
       " np.int64(126),\n",
       " np.int64(127),\n",
       " np.int64(128),\n",
       " np.int64(129),\n",
       " np.int64(130),\n",
       " np.int64(131),\n",
       " np.int64(132),\n",
       " np.int64(133),\n",
       " np.int64(134),\n",
       " np.int64(135),\n",
       " np.int64(136),\n",
       " np.int64(137),\n",
       " np.int64(138),\n",
       " np.int64(139),\n",
       " np.int64(140),\n",
       " np.int64(141),\n",
       " np.int64(142),\n",
       " np.int64(143),\n",
       " np.int64(144),\n",
       " np.int64(145),\n",
       " np.int64(146),\n",
       " np.int64(147),\n",
       " np.int64(148),\n",
       " np.int64(149),\n",
       " np.int64(150),\n",
       " np.int64(151),\n",
       " np.int64(152),\n",
       " np.int64(153),\n",
       " np.int64(154),\n",
       " np.int64(155),\n",
       " np.int64(156),\n",
       " np.int64(157),\n",
       " np.int64(158),\n",
       " np.int64(159),\n",
       " np.int64(160),\n",
       " np.int64(161),\n",
       " np.int64(162),\n",
       " np.int64(163),\n",
       " np.int64(164),\n",
       " np.int64(165),\n",
       " np.int64(166),\n",
       " np.int64(167),\n",
       " np.int64(168),\n",
       " np.int64(169),\n",
       " np.int64(170),\n",
       " np.int64(171),\n",
       " np.int64(172),\n",
       " np.int64(173),\n",
       " np.int64(174),\n",
       " np.int64(175),\n",
       " np.int64(176),\n",
       " np.int64(177),\n",
       " np.int64(178),\n",
       " np.int64(179),\n",
       " np.int64(180),\n",
       " np.int64(181),\n",
       " np.int64(182),\n",
       " np.int64(183),\n",
       " np.int64(184),\n",
       " np.int64(185),\n",
       " np.int64(186),\n",
       " np.int64(187),\n",
       " np.int64(188),\n",
       " np.int64(189),\n",
       " np.int64(190),\n",
       " np.int64(191),\n",
       " np.int64(192),\n",
       " np.int64(193),\n",
       " np.int64(194),\n",
       " np.int64(195),\n",
       " np.int64(196),\n",
       " np.int64(197),\n",
       " np.int64(198),\n",
       " np.int64(199),\n",
       " np.int64(200),\n",
       " np.int64(201),\n",
       " np.int64(202),\n",
       " np.int64(203),\n",
       " np.int64(204),\n",
       " np.int64(205),\n",
       " np.int64(206),\n",
       " np.int64(207),\n",
       " np.int64(208),\n",
       " np.int64(209),\n",
       " np.int64(210),\n",
       " np.int64(211),\n",
       " np.int64(212),\n",
       " np.int64(213),\n",
       " np.int64(214),\n",
       " np.int64(215),\n",
       " np.int64(216),\n",
       " np.int64(217),\n",
       " np.int64(218),\n",
       " np.int64(219),\n",
       " np.int64(220),\n",
       " np.int64(221),\n",
       " np.int64(222),\n",
       " np.int64(223),\n",
       " np.int64(224),\n",
       " np.int64(225),\n",
       " np.int64(226),\n",
       " np.int64(227),\n",
       " np.int64(228),\n",
       " np.int64(229),\n",
       " np.int64(230),\n",
       " np.int64(231),\n",
       " np.int64(232),\n",
       " np.int64(233),\n",
       " np.int64(234),\n",
       " np.int64(235),\n",
       " np.int64(236),\n",
       " np.int64(237),\n",
       " np.int64(238),\n",
       " np.int64(239),\n",
       " np.int64(240),\n",
       " np.int64(241),\n",
       " np.int64(242),\n",
       " np.int64(243),\n",
       " np.int64(244),\n",
       " np.int64(245),\n",
       " np.int64(246),\n",
       " np.int64(247),\n",
       " np.int64(248),\n",
       " np.int64(249),\n",
       " np.int64(250),\n",
       " np.int64(251),\n",
       " np.int64(252),\n",
       " np.int64(253),\n",
       " np.int64(254),\n",
       " np.int64(255),\n",
       " np.int64(256),\n",
       " np.int64(257),\n",
       " np.int64(258),\n",
       " np.int64(259),\n",
       " np.int64(260),\n",
       " np.int64(261),\n",
       " np.int64(262),\n",
       " np.int64(263),\n",
       " np.int64(264),\n",
       " np.int64(265),\n",
       " np.int64(266),\n",
       " np.int64(267),\n",
       " np.int64(268),\n",
       " np.int64(269),\n",
       " np.int64(270),\n",
       " np.int64(271),\n",
       " np.int64(272),\n",
       " np.int64(273),\n",
       " np.int64(274),\n",
       " np.int64(275),\n",
       " np.int64(276),\n",
       " np.int64(277),\n",
       " np.int64(278),\n",
       " np.int64(279),\n",
       " np.int64(280),\n",
       " np.int64(281),\n",
       " np.int64(282),\n",
       " np.int64(283),\n",
       " np.int64(284),\n",
       " np.int64(285),\n",
       " np.int64(286),\n",
       " np.int64(287),\n",
       " np.int64(288),\n",
       " np.int64(289),\n",
       " np.int64(290),\n",
       " np.int64(291),\n",
       " np.int64(292),\n",
       " np.int64(293),\n",
       " np.int64(294),\n",
       " np.int64(295),\n",
       " np.int64(296),\n",
       " np.int64(297),\n",
       " np.int64(298),\n",
       " np.int64(299),\n",
       " np.int64(300),\n",
       " np.int64(301),\n",
       " np.int64(302),\n",
       " np.int64(303),\n",
       " np.int64(304),\n",
       " np.int64(305),\n",
       " np.int64(306),\n",
       " np.int64(307),\n",
       " np.int64(308),\n",
       " np.int64(309),\n",
       " np.int64(310),\n",
       " np.int64(311),\n",
       " np.int64(312),\n",
       " np.int64(313),\n",
       " np.int64(314),\n",
       " np.int64(315),\n",
       " np.int64(316),\n",
       " np.int64(317),\n",
       " np.int64(318),\n",
       " np.int64(319),\n",
       " np.int64(320),\n",
       " np.int64(321),\n",
       " np.int64(322),\n",
       " np.int64(323),\n",
       " np.int64(324),\n",
       " np.int64(325),\n",
       " np.int64(326),\n",
       " np.int64(327),\n",
       " np.int64(328),\n",
       " np.int64(329),\n",
       " np.int64(330),\n",
       " np.int64(331),\n",
       " np.int64(332),\n",
       " np.int64(333),\n",
       " np.int64(334),\n",
       " np.int64(335),\n",
       " np.int64(336),\n",
       " np.int64(337),\n",
       " np.int64(338),\n",
       " np.int64(339),\n",
       " np.int64(340),\n",
       " np.int64(341),\n",
       " np.int64(342),\n",
       " np.int64(343),\n",
       " np.int64(344),\n",
       " np.int64(345),\n",
       " np.int64(346),\n",
       " np.int64(347),\n",
       " np.int64(348),\n",
       " np.int64(349),\n",
       " np.int64(350),\n",
       " np.int64(351),\n",
       " np.int64(352),\n",
       " np.int64(353),\n",
       " np.int64(354),\n",
       " np.int64(355),\n",
       " np.int64(356),\n",
       " np.int64(357),\n",
       " np.int64(358),\n",
       " np.int64(359),\n",
       " np.int64(360),\n",
       " np.int64(361),\n",
       " np.int64(362),\n",
       " np.int64(363),\n",
       " np.int64(364),\n",
       " np.int64(365),\n",
       " np.int64(366),\n",
       " np.int64(367),\n",
       " np.int64(368),\n",
       " np.int64(369),\n",
       " np.int64(370),\n",
       " np.int64(371),\n",
       " np.int64(372),\n",
       " np.int64(373),\n",
       " np.int64(374),\n",
       " np.int64(375),\n",
       " np.int64(376),\n",
       " np.int64(377),\n",
       " np.int64(378),\n",
       " np.int64(379),\n",
       " np.int64(380),\n",
       " np.int64(381),\n",
       " np.int64(382),\n",
       " np.int64(383),\n",
       " np.int64(384),\n",
       " np.int64(385),\n",
       " np.int64(386),\n",
       " np.int64(387),\n",
       " np.int64(388),\n",
       " np.int64(389),\n",
       " np.int64(390),\n",
       " np.int64(391),\n",
       " np.int64(392),\n",
       " np.int64(393),\n",
       " np.int64(394),\n",
       " np.int64(395),\n",
       " np.int64(396),\n",
       " np.int64(397),\n",
       " np.int64(398),\n",
       " np.int64(399),\n",
       " np.int64(400),\n",
       " np.int64(401),\n",
       " np.int64(402),\n",
       " np.int64(403),\n",
       " np.int64(404),\n",
       " np.int64(405),\n",
       " np.int64(406),\n",
       " np.int64(407),\n",
       " np.int64(408),\n",
       " np.int64(409),\n",
       " np.int64(410),\n",
       " np.int64(411),\n",
       " np.int64(412),\n",
       " np.int64(413),\n",
       " np.int64(414),\n",
       " np.int64(415),\n",
       " np.int64(416),\n",
       " np.int64(417),\n",
       " np.int64(418),\n",
       " np.int64(419),\n",
       " np.int64(420),\n",
       " np.int64(421),\n",
       " np.int64(422),\n",
       " np.int64(423),\n",
       " np.int64(424),\n",
       " np.int64(425),\n",
       " np.int64(426),\n",
       " np.int64(427),\n",
       " np.int64(428),\n",
       " np.int64(429),\n",
       " np.int64(430),\n",
       " np.int64(431),\n",
       " np.int64(432),\n",
       " np.int64(433),\n",
       " np.int64(434),\n",
       " np.int64(435),\n",
       " np.int64(436),\n",
       " np.int64(437),\n",
       " np.int64(438),\n",
       " np.int64(439),\n",
       " np.int64(440),\n",
       " np.int64(441),\n",
       " np.int64(442),\n",
       " np.int64(443),\n",
       " np.int64(444),\n",
       " np.int64(445),\n",
       " np.int64(446),\n",
       " np.int64(447),\n",
       " np.int64(448),\n",
       " np.int64(449),\n",
       " np.int64(450),\n",
       " np.int64(451),\n",
       " np.int64(452),\n",
       " np.int64(453),\n",
       " np.int64(454),\n",
       " np.int64(455),\n",
       " np.int64(456),\n",
       " np.int64(457),\n",
       " np.int64(458),\n",
       " np.int64(459),\n",
       " np.int64(460),\n",
       " np.int64(461),\n",
       " np.int64(462),\n",
       " np.int64(463),\n",
       " np.int64(464),\n",
       " np.int64(465),\n",
       " np.int64(466),\n",
       " np.int64(467),\n",
       " np.int64(468),\n",
       " np.int64(469),\n",
       " np.int64(470),\n",
       " np.int64(471),\n",
       " np.int64(472),\n",
       " np.int64(473),\n",
       " np.int64(474),\n",
       " np.int64(475),\n",
       " np.int64(476),\n",
       " np.int64(477),\n",
       " np.int64(478),\n",
       " np.int64(479),\n",
       " np.int64(480),\n",
       " np.int64(481),\n",
       " np.int64(482),\n",
       " np.int64(483),\n",
       " np.int64(484),\n",
       " np.int64(485),\n",
       " np.int64(486),\n",
       " np.int64(487),\n",
       " np.int64(488),\n",
       " np.int64(489),\n",
       " np.int64(490),\n",
       " np.int64(491),\n",
       " np.int64(492),\n",
       " np.int64(493),\n",
       " np.int64(494),\n",
       " np.int64(495),\n",
       " np.int64(496),\n",
       " np.int64(497),\n",
       " np.int64(498),\n",
       " np.int64(499),\n",
       " np.int64(500),\n",
       " np.int64(501),\n",
       " np.int64(502),\n",
       " np.int64(503),\n",
       " np.int64(504),\n",
       " np.int64(505),\n",
       " np.int64(506),\n",
       " np.int64(507),\n",
       " np.int64(508),\n",
       " np.int64(509),\n",
       " np.int64(510),\n",
       " np.int64(511),\n",
       " np.int64(512),\n",
       " np.int64(513),\n",
       " np.int64(514),\n",
       " np.int64(515),\n",
       " np.int64(516),\n",
       " np.int64(517),\n",
       " np.int64(518),\n",
       " np.int64(519),\n",
       " np.int64(520),\n",
       " np.int64(521),\n",
       " np.int64(522),\n",
       " np.int64(523),\n",
       " np.int64(524),\n",
       " np.int64(525),\n",
       " np.int64(526),\n",
       " np.int64(527),\n",
       " np.int64(528),\n",
       " np.int64(529),\n",
       " np.int64(530),\n",
       " np.int64(531),\n",
       " np.int64(532),\n",
       " np.int64(533),\n",
       " np.int64(534),\n",
       " np.int64(535),\n",
       " np.int64(536),\n",
       " np.int64(537),\n",
       " np.int64(538),\n",
       " np.int64(539),\n",
       " np.int64(540),\n",
       " np.int64(541),\n",
       " np.int64(542),\n",
       " np.int64(543),\n",
       " np.int64(544),\n",
       " np.int64(545),\n",
       " np.int64(546),\n",
       " np.int64(547),\n",
       " np.int64(548),\n",
       " np.int64(549),\n",
       " np.int64(550),\n",
       " np.int64(551),\n",
       " np.int64(552),\n",
       " np.int64(553),\n",
       " np.int64(554),\n",
       " np.int64(555),\n",
       " np.int64(556),\n",
       " np.int64(557),\n",
       " np.int64(558),\n",
       " np.int64(559),\n",
       " np.int64(560),\n",
       " np.int64(561),\n",
       " np.int64(562),\n",
       " np.int64(563),\n",
       " np.int64(564),\n",
       " np.int64(565),\n",
       " np.int64(566),\n",
       " np.int64(567),\n",
       " np.int64(568),\n",
       " np.int64(569),\n",
       " np.int64(570),\n",
       " np.int64(571),\n",
       " np.int64(572),\n",
       " np.int64(573),\n",
       " np.int64(574),\n",
       " np.int64(575),\n",
       " np.int64(576),\n",
       " np.int64(577),\n",
       " np.int64(578),\n",
       " np.int64(579),\n",
       " np.int64(580),\n",
       " np.int64(581),\n",
       " np.int64(582),\n",
       " np.int64(583),\n",
       " np.int64(584),\n",
       " np.int64(585),\n",
       " np.int64(586),\n",
       " np.int64(587),\n",
       " np.int64(588),\n",
       " np.int64(589),\n",
       " np.int64(590),\n",
       " np.int64(591),\n",
       " np.int64(592),\n",
       " np.int64(593),\n",
       " np.int64(594),\n",
       " np.int64(595),\n",
       " np.int64(596),\n",
       " np.int64(597),\n",
       " np.int64(598),\n",
       " np.int64(599),\n",
       " np.int64(600),\n",
       " np.int64(601),\n",
       " np.int64(602),\n",
       " np.int64(603),\n",
       " np.int64(604),\n",
       " np.int64(605),\n",
       " np.int64(606),\n",
       " np.int64(607),\n",
       " np.int64(608),\n",
       " np.int64(609),\n",
       " np.int64(610),\n",
       " np.int64(611),\n",
       " np.int64(612),\n",
       " np.int64(613),\n",
       " np.int64(614),\n",
       " np.int64(615),\n",
       " np.int64(616),\n",
       " np.int64(617),\n",
       " np.int64(618),\n",
       " np.int64(619),\n",
       " np.int64(620),\n",
       " np.int64(621),\n",
       " np.int64(622),\n",
       " np.int64(623),\n",
       " np.int64(624),\n",
       " np.int64(625),\n",
       " np.int64(626),\n",
       " np.int64(627),\n",
       " np.int64(628),\n",
       " np.int64(629),\n",
       " np.int64(630),\n",
       " np.int64(631),\n",
       " np.int64(632),\n",
       " np.int64(633),\n",
       " np.int64(634),\n",
       " np.int64(635),\n",
       " np.int64(636),\n",
       " np.int64(637),\n",
       " np.int64(638),\n",
       " np.int64(639),\n",
       " np.int64(640),\n",
       " np.int64(641),\n",
       " np.int64(642),\n",
       " np.int64(643),\n",
       " np.int64(644),\n",
       " np.int64(645),\n",
       " np.int64(646),\n",
       " np.int64(647),\n",
       " np.int64(648),\n",
       " np.int64(649),\n",
       " np.int64(650),\n",
       " np.int64(651),\n",
       " np.int64(652),\n",
       " np.int64(653),\n",
       " np.int64(654),\n",
       " np.int64(655),\n",
       " np.int64(656),\n",
       " np.int64(657),\n",
       " np.int64(658),\n",
       " np.int64(659),\n",
       " np.int64(660),\n",
       " np.int64(661),\n",
       " np.int64(662),\n",
       " np.int64(663),\n",
       " np.int64(664),\n",
       " np.int64(665),\n",
       " np.int64(666),\n",
       " np.int64(667),\n",
       " np.int64(668),\n",
       " np.int64(669),\n",
       " np.int64(670),\n",
       " np.int64(671),\n",
       " np.int64(672),\n",
       " np.int64(673),\n",
       " np.int64(674),\n",
       " np.int64(675),\n",
       " np.int64(676),\n",
       " np.int64(677),\n",
       " np.int64(678),\n",
       " np.int64(679),\n",
       " np.int64(680),\n",
       " np.int64(681),\n",
       " np.int64(682),\n",
       " np.int64(683),\n",
       " np.int64(684),\n",
       " np.int64(685),\n",
       " np.int64(686),\n",
       " np.int64(687),\n",
       " np.int64(688),\n",
       " np.int64(689),\n",
       " np.int64(690),\n",
       " np.int64(691),\n",
       " np.int64(692),\n",
       " np.int64(693),\n",
       " np.int64(694),\n",
       " np.int64(695),\n",
       " np.int64(696),\n",
       " np.int64(697),\n",
       " np.int64(698),\n",
       " np.int64(699),\n",
       " np.int64(700),\n",
       " np.int64(701),\n",
       " np.int64(702),\n",
       " np.int64(703),\n",
       " np.int64(704),\n",
       " np.int64(705),\n",
       " np.int64(706),\n",
       " np.int64(707),\n",
       " np.int64(708),\n",
       " np.int64(709),\n",
       " np.int64(710),\n",
       " np.int64(711),\n",
       " np.int64(712),\n",
       " np.int64(713),\n",
       " np.int64(714),\n",
       " np.int64(715),\n",
       " np.int64(716),\n",
       " np.int64(717),\n",
       " np.int64(718),\n",
       " np.int64(719),\n",
       " np.int64(720),\n",
       " np.int64(721),\n",
       " np.int64(722),\n",
       " np.int64(723),\n",
       " np.int64(724),\n",
       " np.int64(725),\n",
       " np.int64(726),\n",
       " np.int64(727),\n",
       " np.int64(728),\n",
       " np.int64(729),\n",
       " np.int64(730),\n",
       " np.int64(731),\n",
       " np.int64(732),\n",
       " np.int64(733),\n",
       " np.int64(734),\n",
       " np.int64(735),\n",
       " np.int64(736),\n",
       " np.int64(737),\n",
       " np.int64(738),\n",
       " np.int64(739),\n",
       " np.int64(740),\n",
       " np.int64(741),\n",
       " np.int64(742),\n",
       " np.int64(743),\n",
       " np.int64(744),\n",
       " np.int64(745),\n",
       " np.int64(746),\n",
       " np.int64(747),\n",
       " np.int64(748),\n",
       " np.int64(749),\n",
       " np.int64(750),\n",
       " np.int64(751),\n",
       " np.int64(752),\n",
       " np.int64(753),\n",
       " np.int64(754),\n",
       " np.int64(755),\n",
       " np.int64(756),\n",
       " np.int64(757),\n",
       " np.int64(758),\n",
       " np.int64(759),\n",
       " np.int64(760),\n",
       " np.int64(761),\n",
       " np.int64(762),\n",
       " np.int64(763),\n",
       " np.int64(764),\n",
       " np.int64(765),\n",
       " np.int64(766),\n",
       " np.int64(767),\n",
       " np.int64(768),\n",
       " np.int64(769),\n",
       " np.int64(770),\n",
       " np.int64(771),\n",
       " np.int64(772),\n",
       " np.int64(773),\n",
       " np.int64(774),\n",
       " np.int64(775),\n",
       " np.int64(776),\n",
       " np.int64(777),\n",
       " np.int64(778),\n",
       " np.int64(779),\n",
       " np.int64(780),\n",
       " np.int64(781),\n",
       " np.int64(782),\n",
       " np.int64(783),\n",
       " np.int64(784),\n",
       " np.int64(785),\n",
       " np.int64(786),\n",
       " np.int64(787),\n",
       " np.int64(788),\n",
       " np.int64(789),\n",
       " np.int64(790),\n",
       " np.int64(791),\n",
       " np.int64(792),\n",
       " np.int64(793),\n",
       " np.int64(794),\n",
       " np.int64(795),\n",
       " np.int64(796),\n",
       " np.int64(797),\n",
       " np.int64(798),\n",
       " np.int64(799),\n",
       " np.int64(800),\n",
       " np.int64(801),\n",
       " np.int64(802),\n",
       " np.int64(803),\n",
       " np.int64(804),\n",
       " np.int64(805),\n",
       " np.int64(806),\n",
       " np.int64(807),\n",
       " np.int64(808),\n",
       " np.int64(809),\n",
       " np.int64(810),\n",
       " np.int64(811),\n",
       " np.int64(812),\n",
       " np.int64(813),\n",
       " np.int64(814),\n",
       " np.int64(815),\n",
       " np.int64(816),\n",
       " np.int64(817),\n",
       " np.int64(818),\n",
       " np.int64(819),\n",
       " np.int64(820),\n",
       " np.int64(821),\n",
       " np.int64(822),\n",
       " np.int64(823),\n",
       " np.int64(824),\n",
       " np.int64(825),\n",
       " np.int64(826),\n",
       " np.int64(827),\n",
       " np.int64(828),\n",
       " np.int64(829),\n",
       " np.int64(830),\n",
       " np.int64(831),\n",
       " np.int64(832),\n",
       " np.int64(833),\n",
       " np.int64(834),\n",
       " np.int64(835),\n",
       " np.int64(836),\n",
       " np.int64(837),\n",
       " np.int64(838),\n",
       " np.int64(839),\n",
       " np.int64(840),\n",
       " np.int64(841),\n",
       " np.int64(842),\n",
       " np.int64(843),\n",
       " np.int64(844),\n",
       " np.int64(845),\n",
       " np.int64(846),\n",
       " np.int64(847),\n",
       " np.int64(848),\n",
       " np.int64(849),\n",
       " np.int64(850),\n",
       " np.int64(851),\n",
       " np.int64(852),\n",
       " np.int64(853),\n",
       " np.int64(854),\n",
       " np.int64(855),\n",
       " np.int64(856),\n",
       " np.int64(857),\n",
       " np.int64(858),\n",
       " np.int64(859),\n",
       " np.int64(860),\n",
       " np.int64(861),\n",
       " np.int64(862),\n",
       " np.int64(863),\n",
       " np.int64(864),\n",
       " np.int64(865),\n",
       " np.int64(866),\n",
       " np.int64(867),\n",
       " np.int64(868),\n",
       " np.int64(869),\n",
       " np.int64(870),\n",
       " np.int64(871),\n",
       " np.int64(872),\n",
       " np.int64(873),\n",
       " np.int64(874),\n",
       " np.int64(875),\n",
       " np.int64(876),\n",
       " np.int64(877),\n",
       " np.int64(878),\n",
       " np.int64(879),\n",
       " np.int64(880),\n",
       " np.int64(881),\n",
       " np.int64(882),\n",
       " np.int64(883),\n",
       " np.int64(884),\n",
       " np.int64(885),\n",
       " np.int64(886),\n",
       " np.int64(887),\n",
       " np.int64(888),\n",
       " np.int64(889),\n",
       " np.int64(890),\n",
       " np.int64(891),\n",
       " np.int64(892),\n",
       " np.int64(893),\n",
       " np.int64(894),\n",
       " np.int64(895),\n",
       " np.int64(896),\n",
       " np.int64(897),\n",
       " np.int64(898),\n",
       " np.int64(899),\n",
       " np.int64(900),\n",
       " np.int64(901),\n",
       " np.int64(902),\n",
       " np.int64(903),\n",
       " np.int64(904),\n",
       " np.int64(905),\n",
       " np.int64(906),\n",
       " np.int64(907),\n",
       " np.int64(908),\n",
       " np.int64(909),\n",
       " np.int64(910),\n",
       " np.int64(911),\n",
       " np.int64(912),\n",
       " np.int64(913),\n",
       " np.int64(914),\n",
       " np.int64(915),\n",
       " np.int64(916),\n",
       " np.int64(917),\n",
       " np.int64(918),\n",
       " np.int64(919),\n",
       " np.int64(920),\n",
       " np.int64(921),\n",
       " np.int64(922),\n",
       " np.int64(923),\n",
       " np.int64(924),\n",
       " np.int64(925),\n",
       " np.int64(926),\n",
       " np.int64(927),\n",
       " np.int64(928),\n",
       " np.int64(929),\n",
       " np.int64(930),\n",
       " np.int64(931),\n",
       " np.int64(932),\n",
       " np.int64(933),\n",
       " np.int64(934),\n",
       " np.int64(935),\n",
       " np.int64(936),\n",
       " np.int64(937),\n",
       " np.int64(938),\n",
       " np.int64(939),\n",
       " np.int64(940),\n",
       " np.int64(941),\n",
       " np.int64(942),\n",
       " np.int64(943),\n",
       " np.int64(944),\n",
       " np.int64(945),\n",
       " np.int64(946),\n",
       " np.int64(947),\n",
       " np.int64(948),\n",
       " np.int64(949),\n",
       " np.int64(950),\n",
       " np.int64(951),\n",
       " np.int64(952),\n",
       " np.int64(953),\n",
       " np.int64(954),\n",
       " np.int64(955),\n",
       " np.int64(956),\n",
       " np.int64(957),\n",
       " np.int64(958),\n",
       " np.int64(959),\n",
       " np.int64(960),\n",
       " np.int64(961),\n",
       " np.int64(962),\n",
       " np.int64(963),\n",
       " np.int64(964),\n",
       " np.int64(965),\n",
       " np.int64(966),\n",
       " np.int64(967),\n",
       " np.int64(968),\n",
       " np.int64(969),\n",
       " np.int64(970),\n",
       " np.int64(971),\n",
       " np.int64(972),\n",
       " np.int64(973),\n",
       " np.int64(974),\n",
       " np.int64(975),\n",
       " np.int64(976),\n",
       " np.int64(977),\n",
       " np.int64(978),\n",
       " np.int64(979),\n",
       " np.int64(980),\n",
       " np.int64(981),\n",
       " np.int64(982),\n",
       " np.int64(983),\n",
       " np.int64(984),\n",
       " np.int64(985),\n",
       " np.int64(986),\n",
       " np.int64(987),\n",
       " np.int64(988),\n",
       " np.int64(989),\n",
       " np.int64(990),\n",
       " np.int64(991),\n",
       " np.int64(992),\n",
       " np.int64(993),\n",
       " np.int64(994),\n",
       " np.int64(995),\n",
       " np.int64(996),\n",
       " np.int64(997),\n",
       " np.int64(998),\n",
       " np.int64(999),\n",
       " ...]"
      ]
     },
     "execution_count": 7,
     "metadata": {},
     "output_type": "execute_result"
    }
   ],
   "source": [
    "my_list = list(my_arr)\n",
    "my_list"
   ]
  },
  {
   "cell_type": "code",
   "execution_count": 8,
   "metadata": {},
   "outputs": [
    {
     "name": "stdout",
     "output_type": "stream",
     "text": [
      "2.65 ms ± 98.1 µs per loop (mean ± std. dev. of 7 runs, 100 loops each)\n"
     ]
    }
   ],
   "source": [
    "%timeit my_arr2 = my_arr * 2"
   ]
  },
  {
   "cell_type": "code",
   "execution_count": 9,
   "metadata": {},
   "outputs": [
    {
     "name": "stdout",
     "output_type": "stream",
     "text": [
      "120 ms ± 12.9 ms per loop (mean ± std. dev. of 7 runs, 10 loops each)\n"
     ]
    }
   ],
   "source": [
    "%timeit my_list2 = [x * 2 for x in my_list]"
   ]
  },
  {
   "cell_type": "markdown",
   "metadata": {},
   "source": [
    "# The NumPy ndarray: A Multidimensional Array Object"
   ]
  },
  {
   "cell_type": "code",
   "execution_count": 11,
   "metadata": {},
   "outputs": [
    {
     "data": {
      "text/plain": [
       "array([[ 1.5, -0.1,  3. ],\n",
       "       [ 0. , -3. ,  6.5]])"
      ]
     },
     "execution_count": 11,
     "metadata": {},
     "output_type": "execute_result"
    }
   ],
   "source": [
    "data = np.array([[1.5, -0.1, 3], [0,-3,6.5]])\n",
    "data"
   ]
  },
  {
   "cell_type": "code",
   "execution_count": 12,
   "metadata": {},
   "outputs": [
    {
     "data": {
      "text/plain": [
       "array([[ 15.,  -1.,  30.],\n",
       "       [  0., -30.,  65.]])"
      ]
     },
     "execution_count": 12,
     "metadata": {},
     "output_type": "execute_result"
    }
   ],
   "source": [
    "data * 10"
   ]
  },
  {
   "cell_type": "code",
   "execution_count": 13,
   "metadata": {},
   "outputs": [
    {
     "data": {
      "text/plain": [
       "array([[ 3. , -0.2,  6. ],\n",
       "       [ 0. , -6. , 13. ]])"
      ]
     },
     "execution_count": 13,
     "metadata": {},
     "output_type": "execute_result"
    }
   ],
   "source": [
    "data + data"
   ]
  },
  {
   "cell_type": "code",
   "execution_count": 14,
   "metadata": {},
   "outputs": [
    {
     "data": {
      "text/plain": [
       "(2, 3)"
      ]
     },
     "execution_count": 14,
     "metadata": {},
     "output_type": "execute_result"
    }
   ],
   "source": [
    "data.shape"
   ]
  },
  {
   "cell_type": "code",
   "execution_count": 15,
   "metadata": {},
   "outputs": [
    {
     "data": {
      "text/plain": [
       "dtype('float64')"
      ]
     },
     "execution_count": 15,
     "metadata": {},
     "output_type": "execute_result"
    }
   ],
   "source": [
    "data.dtype"
   ]
  },
  {
   "cell_type": "code",
   "execution_count": 18,
   "metadata": {},
   "outputs": [
    {
     "data": {
      "text/plain": [
       "array([6. , 7.5, 8. , 0. , 1. ])"
      ]
     },
     "execution_count": 18,
     "metadata": {},
     "output_type": "execute_result"
    }
   ],
   "source": [
    "data1=[6,7.5, 8,0,1]\n",
    "arr1 = np.array(data1)\n",
    "arr1"
   ]
  },
  {
   "cell_type": "code",
   "execution_count": 21,
   "metadata": {},
   "outputs": [
    {
     "data": {
      "text/plain": [
       "array([[1, 2, 3, 4],\n",
       "       [5, 6, 7, 8]])"
      ]
     },
     "execution_count": 21,
     "metadata": {},
     "output_type": "execute_result"
    }
   ],
   "source": [
    "data2 = [[1,2,3,4],[5,6,7,8]]\n",
    "arr2 = np.array(data2)\n",
    "arr2"
   ]
  },
  {
   "cell_type": "markdown",
   "metadata": {},
   "source": [
    "- `ndim`: number of dimension \n",
    "- `nshape`: gives the overall shape of the array"
   ]
  },
  {
   "cell_type": "code",
   "execution_count": 22,
   "metadata": {},
   "outputs": [
    {
     "data": {
      "text/plain": [
       "2"
      ]
     },
     "execution_count": 22,
     "metadata": {},
     "output_type": "execute_result"
    }
   ],
   "source": [
    "arr2.ndim"
   ]
  },
  {
   "cell_type": "code",
   "execution_count": 23,
   "metadata": {},
   "outputs": [
    {
     "data": {
      "text/plain": [
       "(2, 4)"
      ]
     },
     "execution_count": 23,
     "metadata": {},
     "output_type": "execute_result"
    }
   ],
   "source": [
    "arr2.shape"
   ]
  },
  {
   "cell_type": "markdown",
   "metadata": {},
   "source": [
    "## Creating n-D arrays of zeros and ones "
   ]
  },
  {
   "cell_type": "code",
   "execution_count": 24,
   "metadata": {},
   "outputs": [
    {
     "data": {
      "text/plain": [
       "array([0., 0., 0., 0., 0., 0., 0., 0., 0., 0.])"
      ]
     },
     "execution_count": 24,
     "metadata": {},
     "output_type": "execute_result"
    }
   ],
   "source": [
    "np.zeros(10)"
   ]
  },
  {
   "cell_type": "code",
   "execution_count": 25,
   "metadata": {},
   "outputs": [
    {
     "data": {
      "text/plain": [
       "array([1., 1., 1., 1., 1., 1., 1., 1., 1., 1., 1., 1., 1., 1., 1.])"
      ]
     },
     "execution_count": 25,
     "metadata": {},
     "output_type": "execute_result"
    }
   ],
   "source": [
    "np.ones(15)"
   ]
  },
  {
   "cell_type": "code",
   "execution_count": 28,
   "metadata": {},
   "outputs": [
    {
     "data": {
      "text/plain": [
       "array([[0., 0., 0.],\n",
       "       [0., 0., 0.]])"
      ]
     },
     "execution_count": 28,
     "metadata": {},
     "output_type": "execute_result"
    }
   ],
   "source": [
    "np.zeros((2,3))"
   ]
  },
  {
   "cell_type": "code",
   "execution_count": 35,
   "metadata": {},
   "outputs": [
    {
     "data": {
      "text/plain": [
       "array([[[0., 0., 0., 0.],\n",
       "        [0., 0., 0., 0.],\n",
       "        [0., 0., 0., 0.]],\n",
       "\n",
       "       [[0., 0., 0., 0.],\n",
       "        [0., 0., 0., 0.],\n",
       "        [0., 0., 0., 0.]]])"
      ]
     },
     "execution_count": 35,
     "metadata": {},
     "output_type": "execute_result"
    }
   ],
   "source": [
    "ndarr = np.zeros((2, 3, 4))\n",
    "ndarr"
   ]
  },
  {
   "cell_type": "code",
   "execution_count": 36,
   "metadata": {},
   "outputs": [
    {
     "data": {
      "text/plain": [
       "array([[0., 0., 0., 0.],\n",
       "       [0., 0., 0., 0.],\n",
       "       [0., 0., 0., 0.]])"
      ]
     },
     "execution_count": 36,
     "metadata": {},
     "output_type": "execute_result"
    }
   ],
   "source": [
    "ndarr[0]"
   ]
  },
  {
   "cell_type": "code",
   "execution_count": 37,
   "metadata": {},
   "outputs": [
    {
     "data": {
      "text/plain": [
       "array([[0., 0., 0., 0.],\n",
       "       [0., 0., 0., 0.],\n",
       "       [0., 0., 0., 0.]])"
      ]
     },
     "execution_count": 37,
     "metadata": {},
     "output_type": "execute_result"
    }
   ],
   "source": [
    "ndarr[1]"
   ]
  },
  {
   "cell_type": "code",
   "execution_count": 38,
   "metadata": {},
   "outputs": [
    {
     "data": {
      "text/plain": [
       "(3, 4)"
      ]
     },
     "execution_count": 38,
     "metadata": {},
     "output_type": "execute_result"
    }
   ],
   "source": [
    "ndarr[0].shape"
   ]
  },
  {
   "cell_type": "code",
   "execution_count": 39,
   "metadata": {},
   "outputs": [
    {
     "data": {
      "text/plain": [
       "array([0., 0., 0., 0.])"
      ]
     },
     "execution_count": 39,
     "metadata": {},
     "output_type": "execute_result"
    }
   ],
   "source": [
    "ndarr[0][0]"
   ]
  },
  {
   "cell_type": "code",
   "execution_count": 41,
   "metadata": {},
   "outputs": [
    {
     "data": {
      "text/plain": [
       "array([0., 0., 0., 0.])"
      ]
     },
     "execution_count": 41,
     "metadata": {},
     "output_type": "execute_result"
    }
   ],
   "source": [
    "ndarr[0,0]"
   ]
  },
  {
   "cell_type": "code",
   "execution_count": 42,
   "metadata": {},
   "outputs": [
    {
     "data": {
      "text/plain": [
       "array([[[1.37962049e-306, 1.24610791e-306, 1.11260959e-306],\n",
       "        [1.69109959e-306, 9.34603679e-307, 1.42419802e-306],\n",
       "        [1.78019082e-306, 4.45061456e-308, 1.24612081e-306]],\n",
       "\n",
       "       [[1.37962049e-306, 9.34597567e-307, 1.29061821e-306],\n",
       "        [1.78019625e-306, 1.11255866e-306, 8.90098127e-307],\n",
       "        [9.34609790e-307, 3.91792279e-317, 6.97843598e+252]]])"
      ]
     },
     "execution_count": 42,
     "metadata": {},
     "output_type": "execute_result"
    }
   ],
   "source": [
    "np.empty((2,3,3))"
   ]
  },
  {
   "cell_type": "markdown",
   "metadata": {},
   "source": [
    "> NOTE: The important thing here is that the np.empty may return non-zero values. This function returns uninitialized memort and thus may contain nonzero \"grabage\" values. We should only use this function only if we intend to populate the new array with data."
   ]
  },
  {
   "cell_type": "markdown",
   "metadata": {},
   "source": [
    "## Arithmatics with Numpy Arrays"
   ]
  },
  {
   "cell_type": "code",
   "execution_count": 48,
   "metadata": {},
   "outputs": [
    {
     "data": {
      "text/plain": [
       "array([0, 1, 2, 3, 4, 5])"
      ]
     },
     "execution_count": 48,
     "metadata": {},
     "output_type": "execute_result"
    }
   ],
   "source": [
    "arr_t = np.arange(6)\n",
    "arr_t.reshape(2,3) # Reshape does not changes the underlying array.\n",
    "arr_t"
   ]
  },
  {
   "cell_type": "code",
   "execution_count": 53,
   "metadata": {},
   "outputs": [
    {
     "data": {
      "text/plain": [
       "array([[0., 1., 2.],\n",
       "       [3., 4., 5.]])"
      ]
     },
     "execution_count": 53,
     "metadata": {},
     "output_type": "execute_result"
    }
   ],
   "source": [
    "arr = arr_t.reshape(2, 3).astype('float')\n",
    "arr"
   ]
  },
  {
   "cell_type": "code",
   "execution_count": 54,
   "metadata": {},
   "outputs": [
    {
     "data": {
      "text/plain": [
       "array([[ 0.,  1.,  4.],\n",
       "       [ 9., 16., 25.]])"
      ]
     },
     "execution_count": 54,
     "metadata": {},
     "output_type": "execute_result"
    }
   ],
   "source": [
    "arr * arr"
   ]
  },
  {
   "cell_type": "code",
   "execution_count": 55,
   "metadata": {},
   "outputs": [
    {
     "data": {
      "text/plain": [
       "array([[0., 0., 0.],\n",
       "       [0., 0., 0.]])"
      ]
     },
     "execution_count": 55,
     "metadata": {},
     "output_type": "execute_result"
    }
   ],
   "source": [
    "arr - arr"
   ]
  },
  {
   "cell_type": "code",
   "execution_count": 57,
   "metadata": {},
   "outputs": [
    {
     "data": {
      "text/plain": [
       "array([[0., 1., 2.],\n",
       "       [3., 4., 5.]])"
      ]
     },
     "execution_count": 57,
     "metadata": {},
     "output_type": "execute_result"
    }
   ],
   "source": [
    "arr"
   ]
  },
  {
   "cell_type": "code",
   "execution_count": 58,
   "metadata": {},
   "outputs": [
    {
     "name": "stderr",
     "output_type": "stream",
     "text": [
      "C:\\Users\\Najee\\AppData\\Local\\Temp\\ipykernel_13528\\255282349.py:1: RuntimeWarning: divide by zero encountered in divide\n",
      "  1/arr\n"
     ]
    },
    {
     "data": {
      "text/plain": [
       "array([[       inf, 1.        , 0.5       ],\n",
       "       [0.33333333, 0.25      , 0.2       ]])"
      ]
     },
     "execution_count": 58,
     "metadata": {},
     "output_type": "execute_result"
    }
   ],
   "source": [
    "1/arr"
   ]
  },
  {
   "cell_type": "code",
   "execution_count": 59,
   "metadata": {},
   "outputs": [
    {
     "data": {
      "text/plain": [
       "array([[ 0.,  1.,  4.],\n",
       "       [ 9., 16., 25.]])"
      ]
     },
     "execution_count": 59,
     "metadata": {},
     "output_type": "execute_result"
    }
   ],
   "source": [
    "arr ** 2"
   ]
  },
  {
   "cell_type": "code",
   "execution_count": 61,
   "metadata": {},
   "outputs": [
    {
     "data": {
      "text/plain": [
       "array([[ 0.,  4.,  1.],\n",
       "       [ 7.,  2., 12.]])"
      ]
     },
     "execution_count": 61,
     "metadata": {},
     "output_type": "execute_result"
    }
   ],
   "source": [
    "arr2 = np.array([[0., 4., 1.], [7., 2.,12.]])\n",
    "arr2"
   ]
  },
  {
   "cell_type": "code",
   "execution_count": 62,
   "metadata": {},
   "outputs": [
    {
     "data": {
      "text/plain": [
       "array([[False,  True, False],\n",
       "       [ True, False,  True]])"
      ]
     },
     "execution_count": 62,
     "metadata": {},
     "output_type": "execute_result"
    }
   ],
   "source": [
    "arr2 > arr"
   ]
  },
  {
   "cell_type": "markdown",
   "metadata": {},
   "source": [
    "## Basic Indexing and Slicing"
   ]
  },
  {
   "cell_type": "code",
   "execution_count": 63,
   "metadata": {},
   "outputs": [
    {
     "data": {
      "text/plain": [
       "array([0, 1, 2, 3, 4, 5, 6, 7, 8, 9])"
      ]
     },
     "execution_count": 63,
     "metadata": {},
     "output_type": "execute_result"
    }
   ],
   "source": [
    "arr = np.arange(10)\n",
    "arr"
   ]
  },
  {
   "cell_type": "code",
   "execution_count": null,
   "metadata": {},
   "outputs": [
    {
     "data": {
      "text/plain": [
       "np.int64(5)"
      ]
     },
     "execution_count": 64,
     "metadata": {},
     "output_type": "execute_result"
    }
   ],
   "source": [
    "arr[5] # 0 based index"
   ]
  },
  {
   "cell_type": "code",
   "execution_count": null,
   "metadata": {},
   "outputs": [
    {
     "data": {
      "text/plain": [
       "np.int64(9)"
      ]
     },
     "execution_count": 68,
     "metadata": {},
     "output_type": "execute_result"
    }
   ],
   "source": [
    "arr[9] # indexes are 0 based."
   ]
  },
  {
   "cell_type": "code",
   "execution_count": 69,
   "metadata": {},
   "outputs": [
    {
     "ename": "IndexError",
     "evalue": "index 10 is out of bounds for axis 0 with size 10",
     "output_type": "error",
     "traceback": [
      "\u001b[1;31m---------------------------------------------------------------------------\u001b[0m",
      "\u001b[1;31mIndexError\u001b[0m                                Traceback (most recent call last)",
      "Cell \u001b[1;32mIn[69], line 1\u001b[0m\n\u001b[1;32m----> 1\u001b[0m \u001b[43marr\u001b[49m\u001b[43m[\u001b[49m\u001b[38;5;241;43m10\u001b[39;49m\u001b[43m]\u001b[49m\n",
      "\u001b[1;31mIndexError\u001b[0m: index 10 is out of bounds for axis 0 with size 10"
     ]
    }
   ],
   "source": [
    "arr[10]"
   ]
  },
  {
   "cell_type": "code",
   "execution_count": null,
   "metadata": {},
   "outputs": [
    {
     "data": {
      "text/plain": [
       "array([5, 6, 7])"
      ]
     },
     "execution_count": 70,
     "metadata": {},
     "output_type": "execute_result"
    }
   ],
   "source": [
    "arr[5:8] # inclusive start and exclusive end - [start_index, end_index)"
   ]
  },
  {
   "cell_type": "code",
   "execution_count": 71,
   "metadata": {},
   "outputs": [
    {
     "data": {
      "text/plain": [
       "array([ 0,  1,  2,  3,  4, 12, 12, 12,  8,  9])"
      ]
     },
     "execution_count": 71,
     "metadata": {},
     "output_type": "execute_result"
    }
   ],
   "source": [
    "# brodcast 12 to n number of elements in the array\n",
    "arr[5:8] = 12\n",
    "arr"
   ]
  },
  {
   "cell_type": "markdown",
   "metadata": {},
   "source": [
    "> Important distinction between python built in list and array slices are views on the original array. Any change on the slice will get refected to the underlying array."
   ]
  },
  {
   "cell_type": "code",
   "execution_count": 75,
   "metadata": {},
   "outputs": [
    {
     "data": {
      "text/plain": [
       "array([12, 12, 12])"
      ]
     },
     "execution_count": 75,
     "metadata": {},
     "output_type": "execute_result"
    }
   ],
   "source": [
    "arr_slice = arr[5:8]\n",
    "arr_slice"
   ]
  },
  {
   "cell_type": "code",
   "execution_count": 76,
   "metadata": {},
   "outputs": [
    {
     "data": {
      "text/plain": [
       "array([   12, 12345,    12])"
      ]
     },
     "execution_count": 76,
     "metadata": {},
     "output_type": "execute_result"
    }
   ],
   "source": [
    "arr_slice[1] = 12345\n",
    "arr_slice"
   ]
  },
  {
   "cell_type": "code",
   "execution_count": 77,
   "metadata": {},
   "outputs": [
    {
     "data": {
      "text/plain": [
       "array([    0,     1,     2,     3,     4,    12, 12345,    12,     8,\n",
       "           9])"
      ]
     },
     "execution_count": 77,
     "metadata": {},
     "output_type": "execute_result"
    }
   ],
   "source": [
    "arr"
   ]
  },
  {
   "cell_type": "code",
   "execution_count": 78,
   "metadata": {},
   "outputs": [
    {
     "data": {
      "text/plain": [
       "array([64, 64, 64])"
      ]
     },
     "execution_count": 78,
     "metadata": {},
     "output_type": "execute_result"
    }
   ],
   "source": [
    "arr_slice[:] = 64\n",
    "arr_slice"
   ]
  },
  {
   "cell_type": "code",
   "execution_count": 79,
   "metadata": {},
   "outputs": [
    {
     "data": {
      "text/plain": [
       "array([ 0,  1,  2,  3,  4, 64, 64, 64,  8,  9])"
      ]
     },
     "execution_count": 79,
     "metadata": {},
     "output_type": "execute_result"
    }
   ],
   "source": [
    "arr"
   ]
  },
  {
   "cell_type": "code",
   "execution_count": 80,
   "metadata": {},
   "outputs": [
    {
     "data": {
      "text/plain": [
       "array([64, 64, 64])"
      ]
     },
     "execution_count": 80,
     "metadata": {},
     "output_type": "execute_result"
    }
   ],
   "source": [
    "arr_slice_copy = arr[5:8].copy()\n",
    "arr_slice_copy"
   ]
  },
  {
   "cell_type": "code",
   "execution_count": 81,
   "metadata": {},
   "outputs": [
    {
     "data": {
      "text/plain": [
       "array([ 64, 123,  64])"
      ]
     },
     "execution_count": 81,
     "metadata": {},
     "output_type": "execute_result"
    }
   ],
   "source": [
    "arr_slice_copy[1] = 123\n",
    "arr_slice_copy"
   ]
  },
  {
   "cell_type": "code",
   "execution_count": 82,
   "metadata": {},
   "outputs": [
    {
     "data": {
      "text/plain": [
       "array([ 0,  1,  2,  3,  4, 64, 64, 64,  8,  9])"
      ]
     },
     "execution_count": 82,
     "metadata": {},
     "output_type": "execute_result"
    }
   ],
   "source": [
    "arr"
   ]
  },
  {
   "cell_type": "code",
   "execution_count": 83,
   "metadata": {},
   "outputs": [
    {
     "data": {
      "text/plain": [
       "array([[1, 2, 3],\n",
       "       [4, 5, 6],\n",
       "       [7, 8, 9]])"
      ]
     },
     "execution_count": 83,
     "metadata": {},
     "output_type": "execute_result"
    }
   ],
   "source": [
    "arr2d = np.array([[1,2,3], [4,5,6], [7,8,9]])\n",
    "arr2d"
   ]
  },
  {
   "cell_type": "code",
   "execution_count": 84,
   "metadata": {},
   "outputs": [
    {
     "data": {
      "text/plain": [
       "array([[1, 2, 3],\n",
       "       [4, 5, 6]])"
      ]
     },
     "execution_count": 84,
     "metadata": {},
     "output_type": "execute_result"
    }
   ],
   "source": [
    "arr2d[:2] # start with select rows [0, 2)"
   ]
  },
  {
   "cell_type": "code",
   "execution_count": 85,
   "metadata": {},
   "outputs": [
    {
     "data": {
      "text/plain": [
       "array([[2, 3],\n",
       "       [5, 6]])"
      ]
     },
     "execution_count": 85,
     "metadata": {},
     "output_type": "execute_result"
    }
   ],
   "source": [
    "arr2d[:2, 1:] # select rows [0, 2) and cols [1, end)"
   ]
  },
  {
   "cell_type": "code",
   "execution_count": null,
   "metadata": {},
   "outputs": [
    {
     "data": {
      "text/plain": [
       "array([5, 6])"
      ]
     },
     "execution_count": 89,
     "metadata": {},
     "output_type": "execute_result"
    }
   ],
   "source": [
    "lower_dim_slice = arr2d[1, 1:]\n",
    "lower_dim_slice # only the 2nd rows two col values"
   ]
  },
  {
   "cell_type": "code",
   "execution_count": 90,
   "metadata": {},
   "outputs": [
    {
     "data": {
      "text/plain": [
       "(2,)"
      ]
     },
     "execution_count": 90,
     "metadata": {},
     "output_type": "execute_result"
    }
   ],
   "source": [
    "lower_dim_slice.shape"
   ]
  },
  {
   "cell_type": "code",
   "execution_count": 91,
   "metadata": {},
   "outputs": [
    {
     "data": {
      "text/plain": [
       "1"
      ]
     },
     "execution_count": 91,
     "metadata": {},
     "output_type": "execute_result"
    }
   ],
   "source": [
    "lower_dim_slice.ndim"
   ]
  },
  {
   "cell_type": "code",
   "execution_count": 92,
   "metadata": {},
   "outputs": [
    {
     "data": {
      "text/plain": [
       "array([3, 6])"
      ]
     },
     "execution_count": 92,
     "metadata": {},
     "output_type": "execute_result"
    }
   ],
   "source": [
    "# third column and only the first two rows\n",
    "arr2d[:2, 2]"
   ]
  },
  {
   "cell_type": "code",
   "execution_count": 93,
   "metadata": {},
   "outputs": [
    {
     "data": {
      "text/plain": [
       "array([[1],\n",
       "       [4],\n",
       "       [7]])"
      ]
     },
     "execution_count": 93,
     "metadata": {},
     "output_type": "execute_result"
    }
   ],
   "source": [
    "# all rows but just one col\n",
    "arr2d[:, :1]"
   ]
  },
  {
   "cell_type": "code",
   "execution_count": 94,
   "metadata": {},
   "outputs": [
    {
     "data": {
      "text/plain": [
       "array([[1, 0, 0],\n",
       "       [4, 0, 0],\n",
       "       [7, 8, 9]])"
      ]
     },
     "execution_count": 94,
     "metadata": {},
     "output_type": "execute_result"
    }
   ],
   "source": [
    "arr2d[:2, 1:] = 0\n",
    "arr2d"
   ]
  },
  {
   "cell_type": "markdown",
   "metadata": {},
   "source": [
    "### Boolean Indexing"
   ]
  },
  {
   "cell_type": "code",
   "execution_count": 96,
   "metadata": {},
   "outputs": [
    {
     "data": {
      "text/plain": [
       "array(['Bob', 'Joe', 'Will', 'Bob', 'Will', 'Joe', 'Joe'], dtype='<U4')"
      ]
     },
     "execution_count": 96,
     "metadata": {},
     "output_type": "execute_result"
    }
   ],
   "source": [
    "names = np.array([\"Bob\", \"Joe\", \"Will\", \"Bob\", \"Will\", \"Joe\", \"Joe\"])\n",
    "names"
   ]
  },
  {
   "cell_type": "code",
   "execution_count": 97,
   "metadata": {},
   "outputs": [
    {
     "data": {
      "text/plain": [
       "array([[  4,   7],\n",
       "       [  0,   2],\n",
       "       [ -5,   6],\n",
       "       [  0,   0],\n",
       "       [  1,   2],\n",
       "       [-12,  -4],\n",
       "       [  3,   4]])"
      ]
     },
     "execution_count": 97,
     "metadata": {},
     "output_type": "execute_result"
    }
   ],
   "source": [
    "data = np.array([[4,7],[0,2],[-5,6], [0,0], [1,2], [-12,-4], [3,4]])\n",
    "data"
   ]
  },
  {
   "cell_type": "code",
   "execution_count": 98,
   "metadata": {},
   "outputs": [
    {
     "data": {
      "text/plain": [
       "array([ True, False, False,  True, False, False, False])"
      ]
     },
     "execution_count": 98,
     "metadata": {},
     "output_type": "execute_result"
    }
   ],
   "source": [
    "names == \"Bob\""
   ]
  },
  {
   "cell_type": "code",
   "execution_count": 99,
   "metadata": {},
   "outputs": [
    {
     "data": {
      "text/plain": [
       "array([[4, 7],\n",
       "       [0, 0]])"
      ]
     },
     "execution_count": 99,
     "metadata": {},
     "output_type": "execute_result"
    }
   ],
   "source": [
    "data[names==\"Bob\"]"
   ]
  },
  {
   "cell_type": "markdown",
   "metadata": {},
   "source": [
    "- Notice the indexes selected from `data` 2D array based on the condition. Every True resulted in an index to be selected and the indecies equal to index of False were ignored.\n",
    "- Remember data[0] is a 1D array and data[1] is another and so on, i.e. data[i] is a 1D array.\n",
    "- The above slicing is selecting the rows. For Cols read along."
   ]
  },
  {
   "cell_type": "code",
   "execution_count": 100,
   "metadata": {},
   "outputs": [
    {
     "data": {
      "text/plain": [
       "array([[7],\n",
       "       [0]])"
      ]
     },
     "execution_count": 100,
     "metadata": {},
     "output_type": "execute_result"
    }
   ],
   "source": [
    "data[names==\"Bob\", 1:]"
   ]
  },
  {
   "cell_type": "code",
   "execution_count": null,
   "metadata": {},
   "outputs": [
    {
     "data": {
      "text/plain": [
       "array([7, 0])"
      ]
     },
     "execution_count": 101,
     "metadata": {},
     "output_type": "execute_result"
    }
   ],
   "source": [
    "data[names==\"Bob\", 1] # Just pull in the cols[1], rows values"
   ]
  },
  {
   "cell_type": "code",
   "execution_count": 102,
   "metadata": {},
   "outputs": [
    {
     "data": {
      "text/plain": [
       "array([False,  True,  True, False,  True,  True,  True])"
      ]
     },
     "execution_count": 102,
     "metadata": {},
     "output_type": "execute_result"
    }
   ],
   "source": [
    "names != \"Bob\""
   ]
  },
  {
   "cell_type": "code",
   "execution_count": 103,
   "metadata": {},
   "outputs": [
    {
     "data": {
      "text/plain": [
       "array([False,  True,  True, False,  True,  True,  True])"
      ]
     },
     "execution_count": 103,
     "metadata": {},
     "output_type": "execute_result"
    }
   ],
   "source": [
    "~(names==\"Bob\")"
   ]
  },
  {
   "cell_type": "code",
   "execution_count": 104,
   "metadata": {},
   "outputs": [
    {
     "data": {
      "text/plain": [
       "array([[  0,   2],\n",
       "       [ -5,   6],\n",
       "       [  1,   2],\n",
       "       [-12,  -4],\n",
       "       [  3,   4]])"
      ]
     },
     "execution_count": 104,
     "metadata": {},
     "output_type": "execute_result"
    }
   ],
   "source": [
    "data[~(names==\"Bob\")]"
   ]
  },
  {
   "cell_type": "code",
   "execution_count": 105,
   "metadata": {},
   "outputs": [
    {
     "data": {
      "text/plain": [
       "array([ True, False, False,  True, False, False, False])"
      ]
     },
     "execution_count": 105,
     "metadata": {},
     "output_type": "execute_result"
    }
   ],
   "source": [
    "cond = names == \"Bob\"\n",
    "cond"
   ]
  },
  {
   "cell_type": "code",
   "execution_count": 106,
   "metadata": {},
   "outputs": [
    {
     "data": {
      "text/plain": [
       "array([[  0,   2],\n",
       "       [ -5,   6],\n",
       "       [  1,   2],\n",
       "       [-12,  -4],\n",
       "       [  3,   4]])"
      ]
     },
     "execution_count": 106,
     "metadata": {},
     "output_type": "execute_result"
    }
   ],
   "source": [
    "data[~cond]"
   ]
  },
  {
   "cell_type": "code",
   "execution_count": 107,
   "metadata": {},
   "outputs": [
    {
     "data": {
      "text/plain": [
       "array([ True, False,  True,  True,  True, False, False])"
      ]
     },
     "execution_count": 107,
     "metadata": {},
     "output_type": "execute_result"
    }
   ],
   "source": [
    "mask = (names==\"Bob\") | (names==\"Will\")\n",
    "mask"
   ]
  },
  {
   "cell_type": "code",
   "execution_count": 108,
   "metadata": {},
   "outputs": [
    {
     "data": {
      "text/plain": [
       "array([[ 4,  7],\n",
       "       [-5,  6],\n",
       "       [ 0,  0],\n",
       "       [ 1,  2]])"
      ]
     },
     "execution_count": 108,
     "metadata": {},
     "output_type": "execute_result"
    }
   ],
   "source": [
    "data[mask]"
   ]
  },
  {
   "cell_type": "code",
   "execution_count": null,
   "metadata": {},
   "outputs": [
    {
     "data": {
      "text/plain": [
       "array([[104, 107],\n",
       "       [100, 102],\n",
       "       [ 95, 106],\n",
       "       [100, 100],\n",
       "       [101, 102],\n",
       "       [ 88,  96],\n",
       "       [103, 104]])"
      ]
     },
     "execution_count": 110,
     "metadata": {},
     "output_type": "execute_result"
    }
   ],
   "source": [
    "data_add_temp = data + 100\n",
    "data_add_temp # data + 100 adds 100 to every element in the array."
   ]
  },
  {
   "cell_type": "code",
   "execution_count": 112,
   "metadata": {},
   "outputs": [
    {
     "data": {
      "text/plain": [
       "array([[  4,   7],\n",
       "       [  0,   2],\n",
       "       [ -5,   6],\n",
       "       [  0,   0],\n",
       "       [  1,   2],\n",
       "       [-12,  -4],\n",
       "       [  3,   4]])"
      ]
     },
     "execution_count": 112,
     "metadata": {},
     "output_type": "execute_result"
    }
   ],
   "source": [
    "data"
   ]
  },
  {
   "cell_type": "code",
   "execution_count": 113,
   "metadata": {},
   "outputs": [
    {
     "data": {
      "text/plain": [
       "array([[False, False],\n",
       "       [False, False],\n",
       "       [ True, False],\n",
       "       [False, False],\n",
       "       [False, False],\n",
       "       [ True,  True],\n",
       "       [False, False]])"
      ]
     },
     "execution_count": 113,
     "metadata": {},
     "output_type": "execute_result"
    }
   ],
   "source": [
    "data < 0"
   ]
  },
  {
   "cell_type": "code",
   "execution_count": 114,
   "metadata": {},
   "outputs": [
    {
     "data": {
      "text/plain": [
       "array([[4, 7],\n",
       "       [0, 2],\n",
       "       [0, 6],\n",
       "       [0, 0],\n",
       "       [1, 2],\n",
       "       [0, 0],\n",
       "       [3, 4]])"
      ]
     },
     "execution_count": 114,
     "metadata": {},
     "output_type": "execute_result"
    }
   ],
   "source": [
    "data[data < 0] = 0\n",
    "data"
   ]
  },
  {
   "cell_type": "code",
   "execution_count": 115,
   "metadata": {},
   "outputs": [
    {
     "data": {
      "text/plain": [
       "array([[7, 7],\n",
       "       [0, 2],\n",
       "       [7, 7],\n",
       "       [7, 7],\n",
       "       [7, 7],\n",
       "       [0, 0],\n",
       "       [3, 4]])"
      ]
     },
     "execution_count": 115,
     "metadata": {},
     "output_type": "execute_result"
    }
   ],
   "source": [
    "data[names!=\"Joe\"] = 7\n",
    "data"
   ]
  },
  {
   "cell_type": "markdown",
   "metadata": {},
   "source": [
    "### Fancy Indexing"
   ]
  },
  {
   "cell_type": "markdown",
   "metadata": {},
   "source": [
    "## Transposing Arrays and Swapping Axes"
   ]
  },
  {
   "cell_type": "code",
   "execution_count": 119,
   "metadata": {},
   "outputs": [
    {
     "data": {
      "text/plain": [
       "array([[ 0,  1,  2,  3,  4],\n",
       "       [ 5,  6,  7,  8,  9],\n",
       "       [10, 11, 12, 13, 14]])"
      ]
     },
     "execution_count": 119,
     "metadata": {},
     "output_type": "execute_result"
    }
   ],
   "source": [
    "arr = np.arange(15).reshape((3,5))\n",
    "arr"
   ]
  },
  {
   "cell_type": "code",
   "execution_count": 120,
   "metadata": {},
   "outputs": [
    {
     "data": {
      "text/plain": [
       "array([[ 0,  5, 10],\n",
       "       [ 1,  6, 11],\n",
       "       [ 2,  7, 12],\n",
       "       [ 3,  8, 13],\n",
       "       [ 4,  9, 14]])"
      ]
     },
     "execution_count": 120,
     "metadata": {},
     "output_type": "execute_result"
    }
   ],
   "source": [
    "arr.T"
   ]
  },
  {
   "cell_type": "code",
   "execution_count": 121,
   "metadata": {},
   "outputs": [
    {
     "data": {
      "text/plain": [
       "array([[125, 140, 155, 170, 185],\n",
       "       [140, 158, 176, 194, 212],\n",
       "       [155, 176, 197, 218, 239],\n",
       "       [170, 194, 218, 242, 266],\n",
       "       [185, 212, 239, 266, 293]])"
      ]
     },
     "execution_count": 121,
     "metadata": {},
     "output_type": "execute_result"
    }
   ],
   "source": [
    "np.dot(arr.T, arr)"
   ]
  },
  {
   "cell_type": "code",
   "execution_count": null,
   "metadata": {},
   "outputs": [],
   "source": []
  }
 ],
 "metadata": {
  "kernelspec": {
   "display_name": "Python 3",
   "language": "python",
   "name": "python3"
  },
  "language_info": {
   "codemirror_mode": {
    "name": "ipython",
    "version": 3
   },
   "file_extension": ".py",
   "mimetype": "text/x-python",
   "name": "python",
   "nbconvert_exporter": "python",
   "pygments_lexer": "ipython3",
   "version": "3.9.2"
  }
 },
 "nbformat": 4,
 "nbformat_minor": 2
}
